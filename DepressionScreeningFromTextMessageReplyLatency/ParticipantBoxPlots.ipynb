{
 "cells": [
  {
   "cell_type": "code",
   "execution_count": 9,
   "metadata": {
    "collapsed": false
   },
   "outputs": [],
   "source": [
    "#Author: ML Tlachac\n",
    "#Paper: Depression Screening from Text Message Reply Latency\n",
    "#year: 2020\n",
    "#github.com/mltlachac/EMBC2020\n",
    "\n",
    "import pandas as pd\n",
    "import numpy as np\n",
    "import matplotlib.pyplot as plt\n",
    "\n",
    "newdf = pd.read_csv(\"LatencyTexts14.csv\")"
   ]
  },
  {
   "cell_type": "code",
   "execution_count": 10,
   "metadata": {
    "collapsed": false
   },
   "outputs": [],
   "source": [
    "#count number of messages\n",
    "nMessages = []\n",
    "latency = []\n",
    "for i in range(0, newdf.shape[0]):\n",
    "    n = newdf.latency[i][1:-1].split(\",\")\n",
    "    nMessages.append(len(n))\n",
    "    nlist = []\n",
    "    for item in n:\n",
    "        nlist.append(int(item))\n",
    "    latency.append(nlist)\n",
    "    \n",
    "newdf[\"latency\"] = latency\n",
    "newdf[\"nMessages\"] = nMessages\n",
    "newdf = newdf[newdf.nMessages > 1]"
   ]
  },
  {
   "cell_type": "code",
   "execution_count": 6,
   "metadata": {
    "collapsed": false
   },
   "outputs": [],
   "source": [
    "#boxplots of latency per participant\n",
    "\n",
    "df = newdf[newdf.score >= 10]\n",
    "\n",
    "plt.figure(figsize = (9, 4))\n",
    "lats = df.latency.to_numpy()\n",
    "plt.boxplot(lats)\n",
    "plt.title(\"Response Latency of Depressed Participants\", fontsize = 15)\n",
    "plt.ylabel(\"Latency in Seconds\", fontsize = 12)\n",
    "plt.xlabel(\"Participant\", fontsize = 12)\n",
    "plt.savefig(\"DepressedPar3.png\", bbox_inches = \"tight\")\n",
    "plt.close()\n",
    "\n",
    "df = newdf[newdf.score < 10]\n",
    "\n",
    "plt.figure(figsize = (9, 4))\n",
    "lats = df.latency.to_numpy()\n",
    "plt.boxplot(lats)\n",
    "plt.title(\"Response Latency of Not Depressed Participants\", fontsize = 15)\n",
    "plt.ylabel(\"Latency in Seconds\", fontsize = 12)\n",
    "plt.xlabel(\"Participant\", fontsize = 12)\n",
    "plt.savefig(\"NonDepressedPar3.png\", bbox_inches = \"tight\")\n",
    "plt.close()"
   ]
  }
 ],
 "metadata": {
  "kernelspec": {
   "display_name": "Python [Root]",
   "language": "python",
   "name": "Python [Root]"
  },
  "language_info": {
   "codemirror_mode": {
    "name": "ipython",
    "version": 3
   },
   "file_extension": ".py",
   "mimetype": "text/x-python",
   "name": "python",
   "nbconvert_exporter": "python",
   "pygments_lexer": "ipython3",
   "version": "3.5.2"
  }
 },
 "nbformat": 4,
 "nbformat_minor": 0
}
